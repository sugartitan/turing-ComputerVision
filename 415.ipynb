{
 "cells": [
  {
   "cell_type": "markdown",
   "metadata": {},
   "source": [
    "# Module 4: Deep Learning\n",
    "\n",
    "## Sprint 1: Computer Vision\n",
    "\n",
    "## Know Your Mushrooms"
   ]
  },
  {
   "cell_type": "markdown",
   "metadata": {},
   "source": [
    "<div style=\"text-align:center\">\n",
    "<div><img style=\"width:400px\" src=\"https://i.pinimg.com/originals/9b/ed/89/9bed89fee3e35c30bbc30f9e9d82b859.jpg\"></img><div>\n",
    "<div style=\"margin-bottom:20px; color:rgb(117, 117, 117);font-size:12px;\">Source: https://www.pinterest.com/pin/597641813035305267/</div>\n",
    "</div>"
   ]
  },
  {
   "cell_type": "markdown",
   "metadata": {},
   "source": [
    "## Background\n",
    "\n",
    "In US alone, around 7500 yearly cases of mushrooms poisoning are reported [(Source)](https://www.tandfonline.com/doi/full/10.1080/00275514.2018.1479561). According to the source, \"misidentification of edible mushroom species appears to be the most common cause and may be preventable through education\". To avoid expenses for hospitalization and in some cases pointless deaths, you have been hired by US National Health Service to create a machine learning model, that can recognize mushroom types. They want to install this on hand-held devices and to help people make the right choice when mushroom picking. "
   ]
  },
  {
   "cell_type": "markdown",
   "metadata": {},
   "source": [
    "---"
   ]
  },
  {
   "cell_type": "markdown",
   "metadata": {},
   "source": [
    "## Concepts to explore\n",
    "\n",
    "Today, we will put everything we learned in this module and use it to solve a classification problem. The idea of this project is to use transfer learning on an architecture of your choice and fine-tune to predict mushroom types.\n",
    "\n",
    "You will use this Kaggle dataset https://www.kaggle.com/maysee/mushrooms-classification-common-genuss-images"
   ]
  },
  {
   "cell_type": "markdown",
   "metadata": {},
   "source": [
    "## How to start?\n",
    "\n",
    "### Data\n",
    "Well, the obvious first steps will be getting the data from Kaggle. There are a number of choices on how to do it, such as downloading images to your machine and then uploading to Drive or using [Kaggle API](https://github.com/Kaggle/kaggle-api). Once you get your data, start with an EDA, as this will directly feed into design choices for your architecture.\n",
    "\n",
    "### Modeling\n",
    "\n",
    "My suggestion is that you start with a simple pre-trained architecture, like ResNet18. This will allow you to fine-tune your net faster and if results are not too good, you can try switching to a larger model later. \n",
    "It is recommended that you use PyTorch Lightning or FastAI. Both are equally good for simple problems like this, but PyTorch Lightning will give you more control, better customization ability, and better understanding of your network."
   ]
  },
  {
   "cell_type": "markdown",
   "metadata": {},
   "source": [
    "## Requirements:\n",
    "\n",
    "- Choose whichever framework you prefer from FastAI, PyTorch Lightning or PyTorch.\n",
    "- As always - EDA\n",
    "- Use a pre-trained neural net as a backbone of your class\n",
    "- Train a classifier. Don't forget to fine-tune\n",
    "- Evaluate inference time\n",
    "- Visualize results"
   ]
  },
  {
   "cell_type": "markdown",
   "metadata": {},
   "source": [
    "## Evaluation Criteria\n",
    "\n",
    "- Model performance\n",
    "  - Classification performance\n",
    "  - Inference speed\n",
    "- EDA and documented findings\n",
    "- Results analysis\n",
    "- Code quality"
   ]
  },
  {
   "cell_type": "markdown",
   "metadata": {},
   "source": [
    "## Bonus challenges\n",
    "\n",
    "- Repeat the process with modifications to your network and see how the results vary. \n",
    "  - Try a different optimizer\n",
    "  - Add an intermediate layer between the backbone and output layer"
   ]
  },
  {
   "cell_type": "markdown",
   "metadata": {},
   "source": [
    "\n",
    "## Sample correction questions\n",
    "\n",
    "During a correction, you may get asked questions that test your understanding of covered topics.\n",
    "\n",
    "- Describe how a convolutional layers works\n",
    "- What is overfitting? Describe why is it bad/good and how to detect it?\n",
    "- What is an optimizer? Describe in high level how it works.\n",
    "- What are the advantages/disadvantages of transfer learning?"
   ]
  },
  {
   "cell_type": "code",
   "execution_count": null,
   "metadata": {},
   "outputs": [],
   "source": []
  }
 ],
 "metadata": {
  "kernelspec": {
   "display_name": "Python 3",
   "language": "python",
   "name": "python3"
  },
  "language_info": {
   "codemirror_mode": {
    "name": "ipython",
    "version": 3
   },
   "file_extension": ".py",
   "mimetype": "text/x-python",
   "name": "python",
   "nbconvert_exporter": "python",
   "pygments_lexer": "ipython3",
   "version": "3.8.5"
  }
 },
 "nbformat": 4,
 "nbformat_minor": 4
}
